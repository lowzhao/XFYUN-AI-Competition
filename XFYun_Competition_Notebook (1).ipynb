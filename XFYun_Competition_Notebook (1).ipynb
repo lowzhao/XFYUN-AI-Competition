{
  "nbformat": 4,
  "nbformat_minor": 0,
  "metadata": {
    "colab": {
      "name": "XFYun Competition Notebook.ipynb",
      "version": "0.3.2",
      "views": {},
      "default_view": {},
      "provenance": [],
      "collapsed_sections": []
    },
    "kernelspec": {
      "name": "python3",
      "display_name": "Python 3"
    }
  },
  "cells": [
    {
      "metadata": {
        "id": "gu4644077qWT",
        "colab_type": "code",
        "colab": {
          "autoexec": {
            "startup": false,
            "wait_interval": 0
          },
          "base_uri": "https://localhost:8080/",
          "height": 34
        },
        "outputId": "428a4606-b881-42b9-d3eb-01f40db2027a",
        "executionInfo": {
          "status": "ok",
          "timestamp": 1531883486561,
          "user_tz": -480,
          "elapsed": 1955,
          "user": {
            "displayName": "XFYun Comp",
            "photoUrl": "https://lh3.googleusercontent.com/a/default-user=s128",
            "userId": "114643949527970295238"
          }
        }
      },
      "cell_type": "code",
      "source": [
        "!python --version"
      ],
      "execution_count": 1,
      "outputs": [
        {
          "output_type": "stream",
          "text": [
            "Python 3.6.3\r\n"
          ],
          "name": "stdout"
        }
      ]
    },
    {
      "metadata": {
        "id": "cWEvoWziqHHc",
        "colab_type": "text"
      },
      "cell_type": "markdown",
      "source": [
        "# Classifying Chinese Dialect Audio with Varying Length\n",
        "\n",
        "This is a part of competition at [2018 iFlyTek](http://challenge.xfyun.cn/) ,[方言种类识别AI挑战赛](http://challenge.xfyun.cn/aicompetition/techDetail). \n",
        "\n",
        "The challenge is to classify audio data into 6 different chinese dialect namely:\n",
        "\n",
        "English Name | 中文名称\n",
        "-- | --\n",
        "ChangSa|长沙\n",
        "HeBei|河北\n",
        "ShangHai|上海\n",
        "NanChang | 南昌\n",
        "MinNan | 闽南\n",
        "KeJia | 客家\n",
        "\n",
        "## Our Method\n",
        "1. Conversion of PCM to WAV Format __(Data Preprocessing)__\n",
        "2. Trimming of WAV files __(Data Preprocessing)__\n",
        "3. \n",
        "\n",
        "\n",
        "\n",
        "## Requirements\n",
        "1. librosa - audio analytic tools\n",
        "2. _Please strive to fill in this_\n",
        "\n",
        "## 1. Downloading Requirements\n",
        "\n",
        "So we will start with installing libraries, and packages with `pip`:\n",
        "1. Librosa - Audio analytic library\n",
        "2. PyDrive - Google drive \n",
        "3. \n",
        "\n"
      ]
    },
    {
      "metadata": {
        "id": "IASbp09-pYBQ",
        "colab_type": "code",
        "colab": {
          "autoexec": {
            "startup": false,
            "wait_interval": 0
          },
          "base_uri": "https://localhost:8080/",
          "height": 292
        },
        "outputId": "354e450e-ad5d-4291-b0ad-b69801ddb125",
        "executionInfo": {
          "status": "ok",
          "timestamp": 1531913547490,
          "user_tz": -480,
          "elapsed": 3475,
          "user": {
            "displayName": "XFYun Comp",
            "photoUrl": "https://lh3.googleusercontent.com/a/default-user=s128",
            "userId": "114643949527970295238"
          }
        }
      },
      "cell_type": "code",
      "source": [
        "%%bash\n",
        "# Install the PyDrive wrapper & import libraries.\n",
        "# This only needs to be done once in a notebook.\n",
        "pip install librosa\n",
        "pip install -U -q PyDrive\n",
        "pip install cPickle"
      ],
      "execution_count": 1,
      "outputs": [
        {
          "output_type": "stream",
          "text": [
            "Requirement already satisfied: librosa in /usr/local/lib/python3.6/dist-packages (0.6.1)\n",
            "Requirement already satisfied: six>=1.3 in /usr/local/lib/python3.6/dist-packages (from librosa) (1.11.0)\n",
            "Requirement already satisfied: joblib>=0.7.0 in /usr/local/lib/python3.6/dist-packages (from librosa) (0.12.1)\n",
            "Requirement already satisfied: numba>=0.38.0 in /usr/local/lib/python3.6/dist-packages (from librosa) (0.39.0)\n",
            "Requirement already satisfied: scipy>=0.14.0 in /usr/local/lib/python3.6/dist-packages (from librosa) (0.19.1)\n",
            "Requirement already satisfied: resampy>=0.2.0 in /usr/local/lib/python3.6/dist-packages (from librosa) (0.2.1)\n",
            "Requirement already satisfied: scikit-learn!=0.19.0,>=0.14.0 in /usr/local/lib/python3.6/dist-packages (from librosa) (0.19.2)\n",
            "Requirement already satisfied: decorator>=3.0.0 in /usr/local/lib/python3.6/dist-packages (from librosa) (4.3.0)\n",
            "Requirement already satisfied: numpy>=1.8.0 in /usr/local/lib/python3.6/dist-packages (from librosa) (1.14.5)\n",
            "Requirement already satisfied: audioread>=2.0.0 in /usr/local/lib/python3.6/dist-packages (from librosa) (2.1.6)\n",
            "Requirement already satisfied: llvmlite>=0.24.0dev0 in /usr/local/lib/python3.6/dist-packages (from numba>=0.38.0->librosa) (0.24.0)\n",
            "Collecting cPickle\n"
          ],
          "name": "stdout"
        },
        {
          "output_type": "stream",
          "text": [
            "Cache entry deserialization failed, entry ignored\n",
            "  Could not find a version that satisfies the requirement cPickle (from versions: )\n",
            "No matching distribution found for cPickle\n"
          ],
          "name": "stderr"
        }
      ]
    },
    {
      "metadata": {
        "id": "60Kn_9rDAYzG",
        "colab_type": "code",
        "colab": {
          "autoexec": {
            "startup": false,
            "wait_interval": 0
          },
          "base_uri": "https://localhost:8080/",
          "height": 102
        },
        "outputId": "e1456d65-1c6c-4bd8-bde5-678c6903be24",
        "executionInfo": {
          "status": "ok",
          "timestamp": 1531913550411,
          "user_tz": -480,
          "elapsed": 2003,
          "user": {
            "displayName": "XFYun Comp",
            "photoUrl": "https://lh3.googleusercontent.com/a/default-user=s128",
            "userId": "114643949527970295238"
          }
        }
      },
      "cell_type": "code",
      "source": [
        "%%bash\n",
        "apt-get install libav-tools"
      ],
      "execution_count": 2,
      "outputs": [
        {
          "output_type": "stream",
          "text": [
            "Reading package lists...\n",
            "Building dependency tree...\n",
            "Reading state information...\n",
            "libav-tools is already the newest version (7:3.3.4-2).\n",
            "0 upgraded, 0 newly installed, 0 to remove and 7 not upgraded.\n"
          ],
          "name": "stdout"
        }
      ]
    },
    {
      "metadata": {
        "id": "zKp46nOW1xoo",
        "colab_type": "text"
      },
      "cell_type": "markdown",
      "source": [
        "### Downloading Files\n",
        ">1 |  Setting Up Drive libraries and connection. (_Code from searching drive in Code snippets tab_)"
      ]
    },
    {
      "metadata": {
        "id": "h_2jAfU-g41s",
        "colab_type": "code",
        "colab": {
          "autoexec": {
            "startup": false,
            "wait_interval": 0
          },
          "base_uri": "https://localhost:8080/",
          "height": 34
        },
        "outputId": "2a8ed186-32c1-4702-fdd4-9f34ed4d0367",
        "executionInfo": {
          "status": "ok",
          "timestamp": 1531913556708,
          "user_tz": -480,
          "elapsed": 3966,
          "user": {
            "displayName": "XFYun Comp",
            "photoUrl": "https://lh3.googleusercontent.com/a/default-user=s128",
            "userId": "114643949527970295238"
          }
        }
      },
      "cell_type": "code",
      "source": [
        "### Run this\n",
        "from pydrive.auth import GoogleAuth\n",
        "from pydrive.drive import GoogleDrive\n",
        "from google.colab import auth\n",
        "from oauth2client.client import GoogleCredentials\n",
        "\n",
        "# Authenticate and create the PyDrive client.\n",
        "# This only needs to be done once per notebook.\n",
        "auth.authenticate_user()\n",
        "gauth = GoogleAuth()\n",
        "gauth.credentials = GoogleCredentials.get_application_default()\n",
        "drive = GoogleDrive(gauth)\n",
        "\n",
        "print(\"successful!\")"
      ],
      "execution_count": 3,
      "outputs": [
        {
          "output_type": "stream",
          "text": [
            "successful!\n"
          ],
          "name": "stdout"
        }
      ]
    },
    {
      "metadata": {
        "id": "LCWTiS4lheiA",
        "colab_type": "text"
      },
      "cell_type": "markdown",
      "source": [
        "> 2 |  Listing all the available files. [_ref_](https://pythonhosted.org/PyDrive/filelist.html#get-all-files-which-matches-the-query)\n",
        "1. Getting `preEditedAudio` folder's id\n",
        "2. Getting the list of folder `changsa` ...\n",
        "3. Using `for ... in ...` loop to find the train folder\n",
        "\n",
        "```\n",
        "Current Folder Structure In Google Drive :\n",
        "audio\n",
        "preEditedAudio - to be downloaded\n",
        "    | changsa\n",
        "          | .vs\n",
        "          | dev\n",
        "          | train <- What we wanted\n",
        "                  | speaker01\n",
        "                  | speaker02\n",
        "                  .\n",
        "                  .\n",
        "                  .\n",
        "                  | speaker29\n",
        "                  | speaker30\n",
        "          | .DS_Store\n",
        "          | changsha.dev.mlf\n",
        "          | changsha.train.mlf\n",
        "    | changsa\n",
        "          | .vs\n",
        "          | dev\n",
        "          | train <- What we wanted\n",
        "                  | speaker01\n",
        "                  | speaker02\n",
        "                  .\n",
        "                  .\n",
        "                  .\n",
        "                  | speaker29\n",
        "                  | speaker30\n",
        "          | .DS_Store\n",
        "          | changsha.dev.mlf\n",
        "          | changsha.train.mlf\n",
        "    .\n",
        "    .\n",
        "    .\n",
        "```\n",
        "\n",
        "We then created an array to keep the `file['id']` of the train and dev folder. _To futher download them later_\n",
        "```\n",
        "Master Parent File Array\n",
        "name : changSha\n",
        "train : [\n",
        "                            {\n",
        "                                        title : speaker01\n",
        "                                        id : SPEAKER01ID\n",
        "                            },\n",
        "                            {\n",
        "                                        title : speaker02\n",
        "                                        id : SPEAKER02ID\n",
        "                            },\n",
        "                            .\n",
        "                            .\n",
        "                            .\n",
        "                            {\n",
        "                                        title : speaker30\n",
        "                                        id : SPEAKER30ID\n",
        "                            }\n",
        "                    ]\n",
        "dev : [\n",
        "                            {\n",
        "                                        title : speaker31\n",
        "                                        id : SPEAKER31ID\n",
        "                            },\n",
        "                            {\n",
        "                                        title : speaker32\n",
        "                                        id : SPEAKER32ID\n",
        "                            },\n",
        "                            .\n",
        "                            .\n",
        "                            .\n",
        "                            {\n",
        "                                        title : speaker35\n",
        "                                        id : SPEAKER35ID\n",
        "                            }\n",
        "                  ]\n",
        "```\n",
        "You can use [JSON Beautifier](https://jsonformatter.curiousconcept.com/) to see the file structure of masterParentFile after generated"
      ]
    },
    {
      "metadata": {
        "id": "jCoPII9jhc1e",
        "colab_type": "code",
        "colab": {
          "autoexec": {
            "startup": false,
            "wait_interval": 0
          },
          "base_uri": "https://localhost:8080/",
          "height": 303
        },
        "outputId": "15620ed3-43e4-4219-86d3-99d066f825d8",
        "executionInfo": {
          "status": "error",
          "timestamp": 1531757741228,
          "user_tz": -480,
          "elapsed": 30652,
          "user": {
            "displayName": "XFYun Comp",
            "photoUrl": "https://lh3.googleusercontent.com/a/default-user=s128",
            "userId": "114643949527970295238"
          }
        }
      },
      "cell_type": "code",
      "source": [
        "parentId = drive.ListFile({'q': \"title='preEditedAudio'\"}).GetList()[0]['id']\n",
        "file_list = drive.ListFile({'q': \"'\"+parentId+\"' in parents and trashed=false\"}).GetList()\n",
        "masterParentIndex = 0\n",
        "masterParentFile = []\n",
        "childTrainFileList = []\n",
        "childDevFileList = []\n",
        "for file in file_list:\n",
        "  childTrainFileList = []\n",
        "  childDevFileList = []\n",
        "  print('title: %s , id: %s' % (file['title'],file['id']))\n",
        "  for childFile in drive.ListFile({'q': \"'\"+file['id']+\"' in parents and trashed=false\"}).GetList():\n",
        "    if(childFile['title'] == 'train'):\n",
        "        print(childFile['id'])\n",
        "        for grandChildFile in drive.ListFile({'q': \"'\"+childFile['id']+\"' in parents and trashed=false and title contains 'speaker'\"}).GetList():\n",
        "            grandChildTrainFileList = []\n",
        "            for grandgrandChildFile in drive.ListFile({'q': \"'\"+grandChildFile['id']+\"' in parents and trashed=false and not title contains '.DS_Store'\"}).GetList():\n",
        "                grandChildTrainFileList.append({\n",
        "                    \"title\":grandgrandChildFile['title'],\n",
        "                     \"id\":grandgrandChildFile['id']\n",
        "                })\n",
        "            childTrainFileList.append({\n",
        "                \"title\":grandChildFile['title'],\n",
        "                \"id\":grandChildFile['id'],\n",
        "                \"child\":grandChildTrainFileList\n",
        "            })\n",
        "    elif(childFile['title'] == 'dev'):\n",
        "        print(childFile['id'])\n",
        "        for grandChildFile in drive.ListFile({'q': \"'\"+childFile['id']+\"' in parents and trashed=false and title contains 'speaker'\"}).GetList():\n",
        "            grandChildDevFileList =[]\n",
        "            for grandgrandChildFile in drive.ListFile({'q': \"'\"+grandChildFile['id']+\"' in parents and trashed=false and not title contains '.DS_Store'\"}).GetList():\n",
        "                grandgrandChildDevFileList =[];\n",
        "                for grandgrandgrandChildFile in drive.ListFile({'q': \"'\"+grandgrandChildFile['id']+\"' in parents and trashed=false and not title contains '.DS_Store'\"}).GetList():\n",
        "                    grandgrandChildFileList.append({\n",
        "                        \"title\":grandgrandgrandChildFileList['title'],\n",
        "                        \"id\":grandgrandgrandChildFileList['id']\n",
        "                    })\n",
        "                grandChildDevFileList.append({\n",
        "                    \"title\":grandgrandChildFile['title'],\n",
        "                     \"id\":grandgrandChildFile['id'],\n",
        "                    \"child\":grandgrandChildFileList\n",
        "                })\n",
        "            childDevFileList.append({\n",
        "                \"title\":grandChildFile['title'],\n",
        "                \"id\":grandChildFile['id'],\n",
        "                \"child\":grandChildDevFileList\n",
        "            })\n",
        "  masterParentFile.append({\n",
        "      \"name\":file['title'],\n",
        "      \"train\":childTrainFileList,\n",
        "      \"dev\":childDevFileList\n",
        "  })\n",
        "\n",
        "print(masterParentFile)\n",
        "  "
      ],
      "execution_count": 0,
      "outputs": [
        {
          "output_type": "stream",
          "text": [
            "title: changsha , id: 1I-J_U7c_VaXREjso02Nhu_YZ63jfmgd0\n",
            "1mdh-axF319uiLMYTcT-z2T7Tmo_m_81B\n",
            "1258NMxcNKjEuP7Ypo4e11fBZiPi-ZsoT\n"
          ],
          "name": "stdout"
        },
        {
          "output_type": "error",
          "ename": "NameError",
          "evalue": "ignored",
          "traceback": [
            "\u001b[0;31m\u001b[0m",
            "\u001b[0;31mNameError\u001b[0mTraceback (most recent call last)",
            "\u001b[0;32m<ipython-input-70-a2db9db784f7>\u001b[0m in \u001b[0;36m<module>\u001b[0;34m()\u001b[0m\n\u001b[1;32m     31\u001b[0m                 \u001b[0mgrandgrandChildDevFileList\u001b[0m \u001b[0;34m=\u001b[0m\u001b[0;34m[\u001b[0m\u001b[0;34m]\u001b[0m\u001b[0;34m;\u001b[0m\u001b[0;34m\u001b[0m\u001b[0m\n\u001b[1;32m     32\u001b[0m                 \u001b[0;32mfor\u001b[0m \u001b[0mgrandgrandgrandChildFile\u001b[0m \u001b[0;32min\u001b[0m \u001b[0mdrive\u001b[0m\u001b[0;34m.\u001b[0m\u001b[0mListFile\u001b[0m\u001b[0;34m(\u001b[0m\u001b[0;34m{\u001b[0m\u001b[0;34m'q'\u001b[0m\u001b[0;34m:\u001b[0m \u001b[0;34m\"'\"\u001b[0m\u001b[0;34m+\u001b[0m\u001b[0mgrandgrandChildFile\u001b[0m\u001b[0;34m[\u001b[0m\u001b[0;34m'id'\u001b[0m\u001b[0;34m]\u001b[0m\u001b[0;34m+\u001b[0m\u001b[0;34m\"' in parents and trashed=false and not title contains '.DS_Store'\"\u001b[0m\u001b[0;34m}\u001b[0m\u001b[0;34m)\u001b[0m\u001b[0;34m.\u001b[0m\u001b[0mGetList\u001b[0m\u001b[0;34m(\u001b[0m\u001b[0;34m)\u001b[0m\u001b[0;34m:\u001b[0m\u001b[0;34m\u001b[0m\u001b[0m\n\u001b[0;32m---> 33\u001b[0;31m                     grandgrandChildFileList.append({\n\u001b[0m\u001b[1;32m     34\u001b[0m                         \u001b[0;34m\"title\"\u001b[0m\u001b[0;34m:\u001b[0m\u001b[0mgrandgrandgrandChildFileList\u001b[0m\u001b[0;34m[\u001b[0m\u001b[0;34m'title'\u001b[0m\u001b[0;34m]\u001b[0m\u001b[0;34m,\u001b[0m\u001b[0;34m\u001b[0m\u001b[0m\n\u001b[1;32m     35\u001b[0m                         \u001b[0;34m\"id\"\u001b[0m\u001b[0;34m:\u001b[0m\u001b[0mgrandgrandgrandChildFileList\u001b[0m\u001b[0;34m[\u001b[0m\u001b[0;34m'id'\u001b[0m\u001b[0;34m]\u001b[0m\u001b[0;34m\u001b[0m\u001b[0m\n",
            "\u001b[0;31mNameError\u001b[0m: name 'grandgrandChildFileList' is not defined"
          ]
        }
      ]
    },
    {
      "metadata": {
        "id": "r4JXc2e2mufU",
        "colab_type": "code",
        "colab": {
          "autoexec": {
            "startup": false,
            "wait_interval": 0
          }
        }
      },
      "cell_type": "code",
      "source": [
        "### Run this\n",
        "\n",
        "import os\n",
        "\n",
        "parentId = drive.ListFile({'q': \"title='changSaExample1.pcm'\"}).GetList()\n",
        "\n",
        "if not os.path.exists(\"audio/\"):\n",
        "        os.makedirs(\"audio/\")\n",
        "download = drive.CreateFile({'id':parentId[0]['id']})\n",
        "download.GetContentFile('audio/'+parentId[0]['title'])\n",
        "\n",
        "\n",
        "parentId = drive.ListFile({'q': \"title='changSaExample2.pcm'\"}).GetList()\n",
        "\n",
        "if not os.path.exists(\"audio/\"):\n",
        "        os.makedirs(\"audio/\")\n",
        "download = drive.CreateFile({'id':parentId[0]['id']})\n",
        "download.GetContentFile('audio/'+parentId[0]['title'])"
      ],
      "execution_count": 0,
      "outputs": []
    },
    {
      "metadata": {
        "id": "272y7oWAwbAl",
        "colab_type": "code",
        "colab": {
          "autoexec": {
            "startup": false,
            "wait_interval": 0
          },
          "base_uri": "https://localhost:8080/",
          "height": 102
        },
        "outputId": "aa5baa61-85c5-407c-f12c-8138c3ed60e9",
        "executionInfo": {
          "status": "ok",
          "timestamp": 1531913568310,
          "user_tz": -480,
          "elapsed": 754,
          "user": {
            "displayName": "XFYun Comp",
            "photoUrl": "https://lh3.googleusercontent.com/a/default-user=s128",
            "userId": "114643949527970295238"
          }
        }
      },
      "cell_type": "code",
      "source": [
        "%%bash\n",
        "ls\n",
        "cd audio\n",
        "ls"
      ],
      "execution_count": 5,
      "outputs": [
        {
          "output_type": "stream",
          "text": [
            "audio\n",
            "datalab\n",
            "changSaExample1.pcm\n",
            "changSaExample1.pcm.wav\n",
            "changSaExample2.pcm\n"
          ],
          "name": "stdout"
        }
      ]
    },
    {
      "metadata": {
        "id": "5v_qOAi9jG1v",
        "colab_type": "text"
      },
      "cell_type": "markdown",
      "source": [
        "> 3 | Make a folder to store the audio file. Then get a file, Eg. changSaExample1.pcm\n",
        "\n",
        "> >`file_id` of  `changSaExample1.pcm` is `1mqNYLgWma_15o-FkdTMDQxAtukYkBYnA`\n",
        "\n"
      ]
    },
    {
      "metadata": {
        "id": "zcMiVoFVjgWr",
        "colab_type": "code",
        "colab": {
          "autoexec": {
            "startup": false,
            "wait_interval": 0
          },
          "base_uri": "https://localhost:8080/",
          "height": 232
        },
        "outputId": "7b02225e-db6d-4021-f973-6bdecea5bf8a",
        "executionInfo": {
          "status": "error",
          "timestamp": 1531913570869,
          "user_tz": -480,
          "elapsed": 692,
          "user": {
            "displayName": "XFYun Comp",
            "photoUrl": "https://lh3.googleusercontent.com/a/default-user=s128",
            "userId": "114643949527970295238"
          }
        }
      },
      "cell_type": "code",
      "source": [
        "import os\n",
        "if not os.path.exists(\"audio\"):\n",
        "    os.makedirs(\"audio\")\n",
        "\n",
        "# fileIdArray = ['1mqNYLgWma_15o-FkdTMDQxAtukYkBYnA','1rRfyhACF2WbpY_JseE0Mscbv8YdngKrG']\n",
        "for file in masterParentFile:\n",
        "    if not os.path.exists(\"audio/\"+file['name']):\n",
        "        os.makedirs(\"audio/\"+file['name'])\n",
        "        os.makedirs(\"audio/\"+file['name']+\"/train\")\n",
        "        os.makedirs(\"audio/\"+file['name']+\"/dev\")\n",
        "    for trainFile in file['train']:\n",
        "        print(trainFile['id'])\n",
        "        download = drive.CreateFile({'id':trainFile['id']})\n",
        "        print(os.getcwd()) \n",
        "        download.GetContentFile('audio/'+file['name']+\"/train/\"+trainFile['title'])\n",
        "#     for devFile in file['dev']:\n",
        "#         drive.CreateFile({'id':devFile['id']}).GetContentFile('audio/'+file['name']+\"/dev/\"+devFile['title'])\n",
        "print(os.path.exists(\"audio/changsha\"))\n",
        "print(drive.ListFile({'q': \"'14wXkJNHIfKUbdffrsqCxeoYalcT6Ngke' in parents and trashed=false\"}).GetList()[1]['id']);\n",
        "\n",
        "drive.CreateFile({'id':'1R_NowKuOacLKggVHgWHxHUifKBE4Qzuu'}).GetContentFile('audio/changsha/abc.pcm')\n",
        "\n",
        "# for index in xrange(len(file_list)):\n",
        "#   downloaded = drive.CreateFile({'id':file_list[index]['id']})\n",
        "#   downloaded.GetContentFile('audio/'+file_list[index]['title'])\n",
        "#   print('Downloaded content %s' % (file_list[index]['title']))"
      ],
      "execution_count": 6,
      "outputs": [
        {
          "output_type": "error",
          "ename": "NameError",
          "evalue": "ignored",
          "traceback": [
            "\u001b[0;31m---------------------------------------------------------------------------\u001b[0m",
            "\u001b[0;31mNameError\u001b[0m                                 Traceback (most recent call last)",
            "\u001b[0;32m<ipython-input-6-fe39b22ea778>\u001b[0m in \u001b[0;36m<module>\u001b[0;34m()\u001b[0m\n\u001b[1;32m      4\u001b[0m \u001b[0;34m\u001b[0m\u001b[0m\n\u001b[1;32m      5\u001b[0m \u001b[0;31m# fileIdArray = ['1mqNYLgWma_15o-FkdTMDQxAtukYkBYnA','1rRfyhACF2WbpY_JseE0Mscbv8YdngKrG']\u001b[0m\u001b[0;34m\u001b[0m\u001b[0;34m\u001b[0m\u001b[0m\n\u001b[0;32m----> 6\u001b[0;31m \u001b[0;32mfor\u001b[0m \u001b[0mfile\u001b[0m \u001b[0;32min\u001b[0m \u001b[0mmasterParentFile\u001b[0m\u001b[0;34m:\u001b[0m\u001b[0;34m\u001b[0m\u001b[0m\n\u001b[0m\u001b[1;32m      7\u001b[0m     \u001b[0;32mif\u001b[0m \u001b[0;32mnot\u001b[0m \u001b[0mos\u001b[0m\u001b[0;34m.\u001b[0m\u001b[0mpath\u001b[0m\u001b[0;34m.\u001b[0m\u001b[0mexists\u001b[0m\u001b[0;34m(\u001b[0m\u001b[0;34m\"audio/\"\u001b[0m\u001b[0;34m+\u001b[0m\u001b[0mfile\u001b[0m\u001b[0;34m[\u001b[0m\u001b[0;34m'name'\u001b[0m\u001b[0;34m]\u001b[0m\u001b[0;34m)\u001b[0m\u001b[0;34m:\u001b[0m\u001b[0;34m\u001b[0m\u001b[0m\n\u001b[1;32m      8\u001b[0m         \u001b[0mos\u001b[0m\u001b[0;34m.\u001b[0m\u001b[0mmakedirs\u001b[0m\u001b[0;34m(\u001b[0m\u001b[0;34m\"audio/\"\u001b[0m\u001b[0;34m+\u001b[0m\u001b[0mfile\u001b[0m\u001b[0;34m[\u001b[0m\u001b[0;34m'name'\u001b[0m\u001b[0;34m]\u001b[0m\u001b[0;34m)\u001b[0m\u001b[0;34m\u001b[0m\u001b[0m\n",
            "\u001b[0;31mNameError\u001b[0m: name 'masterParentFile' is not defined"
          ]
        }
      ]
    },
    {
      "metadata": {
        "id": "mUl_MGDPnHQn",
        "colab_type": "text"
      },
      "cell_type": "markdown",
      "source": [
        "> 4 | Show the file content"
      ]
    },
    {
      "metadata": {
        "id": "sgPQXaX0metg",
        "colab_type": "code",
        "colab": {
          "autoexec": {
            "startup": false,
            "wait_interval": 0
          },
          "base_uri": "https://localhost:8080/",
          "height": 119
        },
        "outputId": "cc5477c1-1544-4b7d-9834-a36ab2eeb7ae",
        "executionInfo": {
          "status": "ok",
          "timestamp": 1531913793852,
          "user_tz": -480,
          "elapsed": 667,
          "user": {
            "displayName": "XFYun Comp",
            "photoUrl": "https://lh3.googleusercontent.com/a/default-user=s128",
            "userId": "114643949527970295238"
          }
        }
      },
      "cell_type": "code",
      "source": [
        "%%bash\n",
        "ls\n",
        "cd audio\n",
        "ls\n",
        "rm -rf changSaExample2.pcm.wav\n",
        "ls\n",
        "# hod -xc changSaExample1.pcm"
      ],
      "execution_count": 16,
      "outputs": [
        {
          "output_type": "stream",
          "text": [
            "audio\n",
            "datalab\n",
            "changSaExample1.pcm\n",
            "changSaExample2.pcm\n",
            "changSaExample1.pcm\n",
            "changSaExample2.pcm\n"
          ],
          "name": "stdout"
        }
      ]
    },
    {
      "metadata": {
        "id": "ziMPORuavkEJ",
        "colab_type": "text"
      },
      "cell_type": "markdown",
      "source": [
        "_Next Step :_\n",
        "\n",
        "## 2. Conversion of data from PCM _(Raw Data)_ to WAV\n",
        "\n",
        "#### Purpose: Because WAV file is much more abundance in the Python enviorment, and more library supported it. As [WAV files can also store raw PCM data](https://stackoverflow.com/questions/560011/compressed-and-uncompressed-wav-files) without compression so we will not lose any significant quality.\n",
        "\n",
        "The `WAV` format is a part of the [PCM,Pulse-Code Modulation Family](https://en.wikipedia.org/wiki/Pulse-code_modulation). There is few ways of how PCM is used such as, __Linear pulse-code modulation (LPCM)__ , \n",
        "\n",
        "\n",
        "\n",
        "#### PCM's Basic Property:\n",
        "1. __Sampling Rate__ , _number of times per second that samples are taken_\n",
        "2. __Bit Depth__, _number of possible digital values that can be used to represent each sample_\n",
        "\n",
        "\n",
        "> The Sample data given is in __16 Bit little endian__ and __16000Hz Sampling Rate__ \n",
        "\n",
        "The code here is referenced from https://stackoverflow.com/questions/16111038/how-to-convert-pcm-files-to-wav-files-scripting"
      ]
    },
    {
      "metadata": {
        "id": "-jHBNp-AUh-H",
        "colab_type": "code",
        "colab": {
          "autoexec": {
            "startup": false,
            "wait_interval": 0
          }
        },
        "cellView": "code"
      },
      "cell_type": "code",
      "source": [
        "### Run this\n",
        "\n",
        "# imports for library\n",
        "#@title Default title text\n",
        "import sys\n",
        "import wave\n",
        "import librosa"
      ],
      "execution_count": 0,
      "outputs": []
    },
    {
      "metadata": {
        "id": "yj48e-UaqBww",
        "colab_type": "code",
        "colab": {
          "autoexec": {
            "startup": false,
            "wait_interval": 0
          },
          "base_uri": "https://localhost:8080/",
          "height": 51
        },
        "cellView": "code",
        "outputId": "e39400c8-7157-4258-900f-c632e093c41d",
        "executionInfo": {
          "status": "ok",
          "timestamp": 1531913804552,
          "user_tz": -480,
          "elapsed": 750,
          "user": {
            "displayName": "XFYun Comp",
            "photoUrl": "https://lh3.googleusercontent.com/a/default-user=s128",
            "userId": "114643949527970295238"
          }
        }
      },
      "cell_type": "code",
      "source": [
        "### Run this\n",
        "\n",
        "\n",
        "fileNameArray= [\"audio/changSaExample1.pcm\",\"audio/changSaExample2.pcm\"];\n",
        "\n",
        "def pcmToWav(fileName,destination):\n",
        "    pcmfile = open(fileName, 'rb')\n",
        "    pcmdata = pcmfile.read()\n",
        "    pcmfile.close()\n",
        "    \n",
        "    print(destination+\".wav\")\n",
        "    wavfile = wave.open(destination+'.wav', 'wb')\n",
        "    wavfile.setparams((1, 2, 16000, 0, 'NONE', 'NONE'))\n",
        "    wavfile.writeframes(pcmdata)\n",
        "    wavfile.close()\n",
        "\n",
        "for arg in fileNameArray:\n",
        "    pcmToWav(arg,arg)\n",
        "  \n",
        "\n"
      ],
      "execution_count": 17,
      "outputs": [
        {
          "output_type": "stream",
          "text": [
            "audio/changSaExample1.pcm.wav\n",
            "audio/changSaExample2.pcm.wav\n"
          ],
          "name": "stdout"
        }
      ]
    },
    {
      "metadata": {
        "id": "u5cnC-tgT9fC",
        "colab_type": "text"
      },
      "cell_type": "markdown",
      "source": [
        "> 1 | Visualising the files."
      ]
    },
    {
      "metadata": {
        "id": "2AvMaIrK68oI",
        "colab_type": "code",
        "colab": {
          "autoexec": {
            "startup": false,
            "wait_interval": 0
          },
          "base_uri": "https://localhost:8080/",
          "height": 102
        },
        "outputId": "703aa6fc-0b27-4e73-8281-873434aa255c",
        "executionInfo": {
          "status": "ok",
          "timestamp": 1531911273262,
          "user_tz": -480,
          "elapsed": 737,
          "user": {
            "displayName": "XFYun Comp",
            "photoUrl": "https://lh3.googleusercontent.com/a/default-user=s128",
            "userId": "114643949527970295238"
          }
        }
      },
      "cell_type": "code",
      "source": [
        "%%bash\n",
        "cd audio\n",
        "ls\n",
        "ls"
      ],
      "execution_count": 40,
      "outputs": [
        {
          "output_type": "stream",
          "text": [
            "changSaExample1.pcm\n",
            "changSaExample1.pcm.wav\n",
            "changSaExample2.pcm\n",
            "changSaExample1.pcm\n",
            "changSaExample2.pcm\n"
          ],
          "name": "stdout"
        }
      ]
    },
    {
      "metadata": {
        "id": "3N7ShjXfUGsk",
        "colab_type": "text"
      },
      "cell_type": "markdown",
      "source": [
        "> 2 | Saving data to google drive"
      ]
    },
    {
      "metadata": {
        "id": "PCqlx2sfKAlr",
        "colab_type": "code",
        "colab": {
          "autoexec": {
            "startup": false,
            "wait_interval": 0
          }
        }
      },
      "cell_type": "code",
      "source": [
        "# fileResultNameArray = [\"changSaExample1.pcm.wav\"]\n",
        "\n",
        "# uploaded = drive.CreateFile({\"parents\": [{\"kind\": \"drive#fileLink\", \"id\": \"1RuqfXWtLWLNqMyod2X9hMlTFJQWxYv2M\"}],'title':fileResultNameArray[0]})\n",
        "# uploaded.SetContentFile(fileNameArray[0])\n",
        "\n",
        "# uploaded.Upload()"
      ],
      "execution_count": 0,
      "outputs": []
    },
    {
      "metadata": {
        "id": "_GlABlR5qyQE",
        "colab_type": "code",
        "colab": {
          "autoexec": {
            "startup": false,
            "wait_interval": 0
          },
          "base_uri": "https://localhost:8080/",
          "height": 34
        },
        "outputId": "37701321-a49b-49af-953b-3e43e8b54d1b",
        "executionInfo": {
          "status": "ok",
          "timestamp": 1531916011198,
          "user_tz": -480,
          "elapsed": 815,
          "user": {
            "displayName": "XFYun Comp",
            "photoUrl": "https://lh3.googleusercontent.com/a/default-user=s128",
            "userId": "114643949527970295238"
          }
        }
      },
      "cell_type": "code",
      "source": [
        "### Run this\n",
        "fileNameArray = [\"changSaExample1.pcm.wav\",\"changSaExample2.pcm.wav\"]\n",
        "\n",
        "\n",
        "#Trim\n",
        "def trimmer (filename) :\n",
        "  y, sr = librosa.load(\"audio/\"+filename,sr=16000)\n",
        "  y_trimmed, index = librosa.effects.trim(y, top_db=12, frame_length=2)\n",
        "  print(librosa.get_duration(y), librosa.get_duration(y_trimmed))\n",
        "\n",
        "  # destination = trimmed_destination + sample_file[:-4] + '.wav'\n",
        "  librosa.output.write_wav(\"audio/trimmed\"+filename, y_trimmed, sr)\n",
        "\n",
        "trimmer(fileNameArray[1])"
      ],
      "execution_count": 51,
      "outputs": [
        {
          "output_type": "stream",
          "text": [
            "4.751337868480726 1.7647165532879818\n"
          ],
          "name": "stdout"
        }
      ]
    },
    {
      "metadata": {
        "id": "z-HhCllkroLl",
        "colab_type": "code",
        "colab": {
          "autoexec": {
            "startup": false,
            "wait_interval": 0
          },
          "base_uri": "https://localhost:8080/",
          "height": 68
        },
        "outputId": "168c8dfd-b144-4d21-d519-c50235f22046",
        "executionInfo": {
          "status": "ok",
          "timestamp": 1531910769700,
          "user_tz": -480,
          "elapsed": 734,
          "user": {
            "displayName": "XFYun Comp",
            "photoUrl": "https://lh3.googleusercontent.com/a/default-user=s128",
            "userId": "114643949527970295238"
          }
        }
      },
      "cell_type": "code",
      "source": [
        "%%bash\n",
        "cd audio\n",
        "ls"
      ],
      "execution_count": 23,
      "outputs": [
        {
          "output_type": "stream",
          "text": [
            "changSaExample1.pcm\n",
            "changSaExample1.pcm.wav\n",
            "changSaExample2.pcm\n"
          ],
          "name": "stdout"
        }
      ]
    },
    {
      "metadata": {
        "id": "K_c45AyCr0eq",
        "colab_type": "code",
        "colab": {
          "autoexec": {
            "startup": false,
            "wait_interval": 0
          },
          "base_uri": "https://localhost:8080/",
          "height": 68
        },
        "outputId": "80532bf6-6447-4d6a-f415-297cf2c45993",
        "executionInfo": {
          "status": "ok",
          "timestamp": 1531913814622,
          "user_tz": -480,
          "elapsed": 1668,
          "user": {
            "displayName": "XFYun Comp",
            "photoUrl": "https://lh3.googleusercontent.com/a/default-user=s128",
            "userId": "114643949527970295238"
          }
        }
      },
      "cell_type": "code",
      "source": [
        "print(os.path.exists(\"trimmedchangSaExample1.pcm.wav\"))\n",
        "librosa.load(\"audio/trimmedchangSaExample1.pcm.wav\",sr=16000)"
      ],
      "execution_count": 19,
      "outputs": [
        {
          "output_type": "stream",
          "text": [
            "False\n"
          ],
          "name": "stdout"
        },
        {
          "output_type": "execute_result",
          "data": {
            "text/plain": [
              "(array([-0.02975464, -0.01831055, -0.02331543, ..., -0.00811768,\n",
              "        -0.00653076, -0.00622559], dtype=float32), 16000)"
            ]
          },
          "metadata": {
            "tags": []
          },
          "execution_count": 19
        }
      ]
    },
    {
      "metadata": {
        "id": "HCHe4K5Tzehw",
        "colab_type": "text"
      },
      "cell_type": "markdown",
      "source": [
        "_Next Step :_\n",
        "\n",
        "## 3. Trimming of WAV Files \n",
        "\n",
        "#### Purpose: Because we dont want the machine learning to misclassify silent noises.\n",
        "> #### We concerned that the abundance of silence in some of the language might leads to the inconsistent result. As the algorithm might misclassify silence as to some dialect.\n",
        "\n"
      ]
    },
    {
      "metadata": {
        "id": "isrZmR8Fma2b",
        "colab_type": "code",
        "colab": {
          "autoexec": {
            "startup": false,
            "wait_interval": 0
          },
          "base_uri": "https://localhost:8080/",
          "height": 293
        },
        "outputId": "a28c0e64-ccd7-4056-a013-2799d1aa7bb4",
        "executionInfo": {
          "status": "ok",
          "timestamp": 1531916016727,
          "user_tz": -480,
          "elapsed": 1037,
          "user": {
            "displayName": "XFYun Comp",
            "photoUrl": "https://lh3.googleusercontent.com/a/default-user=s128",
            "userId": "114643949527970295238"
          }
        }
      },
      "cell_type": "code",
      "source": [
        "\n",
        "import librosa.display\n",
        "import numpy as np\n",
        "\n",
        "# Generate mfccs from a time series\n",
        "\n",
        "# y, sr = librosa.load(librosa.util.example_audio_file(), offset=30, duration=5)\n",
        "y, sr = librosa.load(\"audio/trimmedchangSaExample1.pcm.wav\",sr=16000)\n",
        "# librosa.feature.mfcc(y=y, sr=sr)\n",
        "# array([[ -5.229e+02,  -4.944e+02, ...,  -5.229e+02,  -5.229e+02],\n",
        "# [  7.105e-15,   3.787e+01, ...,  -7.105e-15,  -7.105e-15],\n",
        "# ...,\n",
        "# [  1.066e-14,  -7.500e+00, ...,   1.421e-14,   1.421e-14],\n",
        "# [  3.109e-14,  -5.058e+00, ...,   2.931e-14,   2.931e-14]])\n",
        "\n",
        "# Use a pre-computed log-power Mel spectrogram\n",
        "\n",
        "# S = librosa.feature.melspectrogram(y=y, sr=sr, n_mels=128,\n",
        "#                                    fmax=8000)\n",
        "# librosa.feature.mfcc(S=librosa.power_to_db(S))\n",
        "# array([[ -5.207e+02,  -4.898e+02, ...,  -5.207e+02,  -5.207e+02],\n",
        "# [ -2.576e-14,   4.054e+01, ...,  -3.997e-14,  -3.997e-14],\n",
        "# ...,\n",
        "# [  7.105e-15,  -3.534e+00, ...,   0.000e+00,   0.000e+00],\n",
        "# [  3.020e-14,  -2.613e+00, ...,   3.553e-14,   3.553e-14]])\n",
        "\n",
        "# Get more components\n",
        "\n",
        "mfccs = librosa.feature.mfcc(y=y, sr=sr, n_mfcc=50)\n",
        "\n",
        "# Visualize the MFCC series\n",
        "\n",
        "import matplotlib.pyplot as plt\n",
        "plt.figure(figsize=(10, 4))\n",
        "librosa.display.specshow(mfccs, x_axis='time')\n",
        "plt.colorbar()\n",
        "plt.title('MFCC')\n",
        "plt.tight_layout()\n",
        "\n",
        "# Compare different DCT bases\n",
        "\n",
        "# m_slaney = librosa.feature.mfcc(y=y, sr=sr, dct_type=2)\n",
        "# m_htk = librosa.feature.mfcc(y=y, sr=sr, dct_type=3)\n",
        "# plt.figure(figsize=(10, 6))\n",
        "# plt.subplot(2, 1, 1)\n",
        "# librosa.display.specshow(m_slaney, x_axis='time')\n",
        "# plt.title('RASTAMAT / Auditory toolbox (dct_type=2)')\n",
        "# plt.colorbar()\n",
        "# plt.subplot(2, 1, 2)\n",
        "# librosa.display.specshow(m_htk, x_axis='time')\n",
        "# plt.title('HTK-style (dct_type=3)')\n",
        "# plt.colorbar()\n",
        "# plt.tight_layout()\n",
        "\n",
        "\n",
        "# plt.figure(figsize=(14, 5))\n",
        "# librosa.display.waveplot(y, sr=sr)\n",
        "\n",
        "plt.show()\n",
        "\n",
        "\n"
      ],
      "execution_count": 52,
      "outputs": [
        {
          "output_type": "display_data",
          "data": {
            "image/png": "[encoded data removed]",
            "text/plain": [
              "<matplotlib.figure.Figure at 0x7f9e17db5c18>"
            ]
          },
          "metadata": {
            "tags": []
          }
        }
      ]
    },
    {
      "metadata": {
        "id": "Qrp_N9gDpkCp",
        "colab_type": "code",
        "colab": {
          "autoexec": {
            "startup": false,
            "wait_interval": 0
          },
          "base_uri": "https://localhost:8080/",
          "height": 1116
        },
        "outputId": "64324730-4ba1-4800-d78a-18c1b51ef522",
        "executionInfo": {
          "status": "ok",
          "timestamp": 1531931835519,
          "user_tz": -480,
          "elapsed": 1442,
          "user": {
            "displayName": "XFYun Comp",
            "photoUrl": "https://lh3.googleusercontent.com/a/default-user=s128",
            "userId": "114643949527970295238"
          }
        }
      },
      "cell_type": "code",
      "source": [
        "### Run this\n",
        "\n",
        "from __future__ import division\n",
        "import numpy as np\n",
        "# import cPickle as pickle\n",
        "import pandas as pd\n",
        "import librosa\n",
        "import math\n",
        "import os\n",
        "\n",
        "global DATADIR\n",
        "global PKLDICT\n",
        "global DESTDIR\n",
        "\n",
        "def createdata(directory, **kwargs):\n",
        "    duration = kwargs['dur']\n",
        "    fft_win = kwargs['fft_win']\n",
        "    fft_hop = kwargs['fft_hop']\n",
        "    n_mfcc = kwargs['n_mfcc']\n",
        "\n",
        "    y, sr = librosa.load(directory,16000)\n",
        "    yn = y/(abs(y).max())\n",
        "    k=0\n",
        "    n_fft = int(round(fft_win/1000*sr))\n",
        "    hop_length = int(round(fft_hop/1000*sr))\n",
        "\n",
        "    print(y.shape[0])\n",
        "    \n",
        "    i=0\n",
        "    j=y.shape[0]\n",
        "    if j-i <= round(duration*sr):\n",
        "        yseg = windowcut(yn,i,j,sr=sr,dur=duration, discard_short = kwargs['discard_short'])\n",
        "        savemfcc(savetarget = \"dsadjbajksd\", y=yseg, sr=sr, n_mfcc=n_mfcc, n_fft = n_fft, hop_length = hop_length)\n",
        "    else:\n",
        "        m=0\n",
        "        cut = lambda x: (2*x+1)*round(duration*sr/2)\n",
        "        slices = filter(None,map(lambda n: (int(i+cut(n)-cut(0)),int(i+cut(n)+cut(0))) if i+cut(n)<j else None, range(int(math.ceil(duration*sr)))))\n",
        "        for tu in slices:\n",
        "            ii=int(tu[0])\n",
        "            jj=int(tu[1])\n",
        "            yseg = windowcut(yn,ii,jj,sr=sr,dur=duration, discard_short = kwargs['discard_short'])\n",
        "            savemfcc(savetarget = \"dsadjbajksd\"+'_'+str(m), y=yseg, sr=sr, n_mfcc=n_mfcc, n_fft = n_fft, hop_length = hop_length)\n",
        "            m+=1\n",
        "    \n",
        "#     savemfcc(savetarget = \"dsadjbajksd\", y=yn, sr=sr, n_mfcc=n_mfcc, n_fft = n_fft)\n",
        "    print('Done') \n",
        "\n",
        "\n",
        "def savemfcc(savetarget, y, sr, n_mfcc,  **kwargs):\n",
        "    mfcc = librosa.feature.mfcc(y=y, sr=sr, n_mfcc=n_mfcc, **kwargs)\n",
        "    mfcc_delta = librosa.feature.delta(mfcc)\n",
        "    mfcc_delta2 = librosa.feature.delta(mfcc, order=2)\n",
        "    # ALthough a test showed not much difference, by eye, it seems rescaling each is better.\n",
        "    #rescale each matrix\n",
        "    \n",
        "    print(mfcc[0])\n",
        "    print(mfcc[1])\n",
        "#     print(mfcc[2])\n",
        "    \n",
        "#     print(mfcc[1:].min())\n",
        "  \n",
        "#     duration = 1\n",
        "#     wincut(duration ,mfcc)\n",
        "    print(mfcc.shape)\n",
        "    print(mfcc_delta2.shape)\n",
        "    \n",
        "    # rescale from 0 to 1 \n",
        "    res = np.array([rescale(mfcc[1:]),rescale(mfcc_delta[1:]),rescale(mfcc_delta2[1:])])\n",
        "    print(res.shape)\n",
        "    #rescale all at once (deltas will be squeezed since mfcc has larger scales)\n",
        "    #res = rescale(np.array([mfcc[1:],mfcc_delta[1:],mfcc_delta2[1:]]))\n",
        "    \n",
        "    #### Found out that the window cut function cannot be removed.\n",
        "     ## brining back the window cut function\n",
        "    \n",
        "    \n",
        "    plt.figure(figsize=(12, 10))\n",
        "    librosa.display.specshow(mfcc, x_axis='time')\n",
        "#     librosa.display.specshow(res[0],x_axis='time')\n",
        "    plt.colorbar()\n",
        "    plt.title('MFCC')\n",
        "    plt.tight_layout()\n",
        "    np.save(savetarget,res)\n",
        "\n",
        "def windowcut(y,i,j,dur=1,sr=22050,discard_short=True):\n",
        "    \"\"\" Returns a slice of y with a specified width\n",
        "    dur: width of window in second\n",
        "    \"\"\"\n",
        "    if dur < len(y)/sr:\n",
        "        left = round((i+j)/2)-round(dur*sr/2)\n",
        "        right = left+round(dur*sr)\n",
        "        if left<0:\n",
        "            left = 0\n",
        "            right = round(dur*sr)\n",
        "        elif right>len(y):\n",
        "            right = len(y)\n",
        "            left = right -  round(dur*sr)\n",
        "        return y[int(left):int(right)]\n",
        "    else: #discard data if total length is smaller than duration we want\n",
        "        if discard_short:\n",
        "            return None\n",
        "        else: #padd with zeros at the end\n",
        "            return np.array(np.append(y,np.zeros(round(dur*sr)-len(y))))\n",
        "    \n",
        "def rescale(m):\n",
        "    #rescale by global max of absolute values\n",
        "    offset = m.min()\n",
        "    scale = m.max()-m.min()\n",
        "    return (m-offset)/scale\n",
        "\n",
        "  \n",
        "createdata(\"audio/trimmed\"+fileNameArray[0],dur=1,discard_short = False, fft_win=30,fft_hop=25, n_mfcc=13)\n",
        "\n",
        "\n"
      ],
      "execution_count": 111,
      "outputs": [
        {
          "output_type": "stream",
          "text": [
            "8704\n",
            "[-191.92761477 -186.35792554 -182.55253326 -172.98305787 -188.92483266\n",
            " -210.27165315 -248.1192421  -271.10846165 -232.12350346 -191.21416029\n",
            " -169.72786239 -188.2725008  -222.56567315 -276.88166716 -295.6955006\n",
            " -284.3490079  -244.10682737 -236.73172289 -227.2252715  -240.94594261\n",
            " -232.46769889 -177.84361626 -371.91497781 -671.16213877 -671.16213877\n",
            " -671.16213877 -671.16213877 -671.16213877 -671.16213877 -671.16213877\n",
            " -671.16213877 -671.16213877 -671.16213877 -671.16213877 -671.16213877\n",
            " -671.16213877 -671.16213877 -671.16213877 -671.16213877 -671.16213877\n",
            " -671.16213877]\n",
            "[ 56.46081221  41.56951115  34.54755987  51.01145293  27.54211197\n",
            "  29.8797205   35.23983709  35.39813088  24.6646808   39.59418609\n",
            "  58.69409128  67.13509409  83.52070623  53.11419387   9.26030069\n",
            "  13.02181599  76.11581057  97.81488019 106.38555186 107.70666708\n",
            " 102.47718247 114.35337438 114.17123546   0.           0.\n",
            "   0.           0.           0.           0.           0.\n",
            "   0.           0.           0.           0.           0.\n",
            "   0.           0.           0.           0.           0.\n",
            "   0.        ]\n",
            "(51, 41)\n",
            "(51, 41)\n",
            "(3, 50, 41)\n",
            "Done\n"
          ],
          "name": "stdout"
        },
        {
          "output_type": "display_data",
          "data": {
            "image/png": "[encoded data removed]",
            "text/plain": [
              "<matplotlib.figure.Figure at 0x7f9e1769a748>"
            ]
          },
          "metadata": {
            "tags": []
          }
        }
      ]
    },
    {
      "metadata": {
        "id": "MfXV16dfxA5B",
        "colab_type": "code",
        "colab": {
          "autoexec": {
            "startup": false,
            "wait_interval": 0
          },
          "base_uri": "https://localhost:8080/",
          "height": 85
        },
        "outputId": "be20aa75-b573-4ccf-96b1-cac89c18e65e",
        "executionInfo": {
          "status": "ok",
          "timestamp": 1531839797856,
          "user_tz": -480,
          "elapsed": 738,
          "user": {
            "displayName": "XFYun Comp",
            "photoUrl": "https://lh3.googleusercontent.com/a/default-user=s128",
            "userId": "114643949527970295238"
          }
        }
      },
      "cell_type": "code",
      "source": [
        "%%bash\n",
        "ls"
      ],
      "execution_count": 0,
      "outputs": [
        {
          "output_type": "stream",
          "text": [
            "audio\n",
            "datalab\n",
            "dsadjbajksd.npy\n",
            "trimmedchangSaExample1.pcm.wav\n"
          ],
          "name": "stdout"
        }
      ]
    },
    {
      "metadata": {
        "id": "ZE2AZwnSxgZD",
        "colab_type": "code",
        "colab": {
          "autoexec": {
            "startup": false,
            "wait_interval": 0
          },
          "base_uri": "https://localhost:8080/",
          "height": 204
        },
        "outputId": "34b1312a-8b20-42f2-9f19-4214614d2305",
        "executionInfo": {
          "status": "ok",
          "timestamp": 1531927476671,
          "user_tz": -480,
          "elapsed": 731,
          "user": {
            "displayName": "XFYun Comp",
            "photoUrl": "https://lh3.googleusercontent.com/a/default-user=s128",
            "userId": "114643949527970295238"
          }
        }
      },
      "cell_type": "code",
      "source": [
        "x = np.load(\"dsadjbajksd_0.npy\")\n",
        "print(x[0][1]==x.reshape((3*50,41))[1])\n",
        "print(x.reshape((3*50,41))[0])\n"
      ],
      "execution_count": 100,
      "outputs": [
        {
          "output_type": "stream",
          "text": [
            "[ True  True  True  True  True  True  True  True  True  True  True  True\n",
            "  True  True  True  True  True  True  True  True  True  True  True  True\n",
            "  True  True  True  True  True  True  True  True  True  True  True  True\n",
            "  True  True  True  True  True]\n",
            "[0.66359128 0.79289574 0.74285621 0.57751061 0.38078208 0.29837264\n",
            " 0.50145816 0.62449855 0.74422754 0.73576791 0.74132757 0.7839919\n",
            " 0.83590008 0.87509462 0.84803271 0.7196948  0.60250161 0.56038548\n",
            " 0.61807354 0.71438695 0.82168237 0.82583094 0.75833576 0.53990828\n",
            " 0.63667828 0.62533865 0.58532162 0.7070044  0.81118821 0.81578097\n",
            " 0.69641871 0.62511595 0.54960934 0.52497969 0.3161135  0.18621892\n",
            " 0.18774093 0.30596256 0.75598116 0.74538318 1.        ]\n"
          ],
          "name": "stdout"
        }
      ]
    },
    {
      "metadata": {
        "id": "t8VhMTQM8mP-",
        "colab_type": "code",
        "colab": {
          "autoexec": {
            "startup": false,
            "wait_interval": 0
          }
        }
      },
      "cell_type": "code",
      "source": [
        ""
      ],
      "execution_count": 0,
      "outputs": []
    },
    {
      "metadata": {
        "id": "orLgajTu8mS7",
        "colab_type": "code",
        "colab": {
          "autoexec": {
            "startup": false,
            "wait_interval": 0
          }
        }
      },
      "cell_type": "code",
      "source": [
        "# From here on its testing dont run it "
      ],
      "execution_count": 0,
      "outputs": []
    },
    {
      "metadata": {
        "id": "MLTTncmM8mVR",
        "colab_type": "code",
        "colab": {
          "autoexec": {
            "startup": false,
            "wait_interval": 0
          }
        }
      },
      "cell_type": "code",
      "source": [
        "tX = np.zeros(0,2,3)\n"
      ],
      "execution_count": 0,
      "outputs": []
    },
    {
      "metadata": {
        "id": "tpCRx55u8mZG",
        "colab_type": "code",
        "colab": {
          "autoexec": {
            "startup": false,
            "wait_interval": 0
          }
        }
      },
      "cell_type": "code",
      "source": [
        "def load_data(testsplit=0.2, setaside=False, asc=False):\n",
        "    animal = {\"cat\":1,\"dog\":0}\n",
        "    X=[]\n",
        "    y=[]\n",
        "    Xs=[]\n",
        "    ys=[]\n",
        "    for key in FOLDER.keys():\n",
        "        directory = DATADIR+FOLDER[key]\n",
        "        files = os.listdir(directory)\n",
        "        Xi=[]\n",
        "        for fn in sorted(files):\n",
        "            x = np.load(directory+fn)\n",
        "            d = x.shape[2]-3*x.shape[1] # third dimension width - 3 times second dimension\n",
        "            d1 = int(round(d/2)) # divide by 2\n",
        "            d2 = d - d1 # d2 is the remaining of d - d1 \n",
        "            xs = x.reshape((3*x.shape[1],x.shape[2]))[:,d1:x.shape[2]-d2] # reshape filling up with, concatenate\n",
        "            Xi.append(xs)\n",
        "            yi = list(np.ones(len(Xi))*animal[key])\n",
        "        if setaside:\n",
        "            if asc:\n",
        "                # setaside first consecutive files\n",
        "                cutind = int(len(Xi)*testsplit)\n",
        "                Xs+=Xi[:cutind]\n",
        "                ys+=yi[:cutind]\n",
        "                X+=Xi[cutind:]\n",
        "                y+=yi[cutind:]\n",
        "            else:\n",
        "                #set aside last consecutive files\n",
        "                cutind = -1*int(len(Xi)*testsplit)\n",
        "                X+=Xi[:cutind]\n",
        "                y+=yi[:cutind]\n",
        "                Xs+=Xi[cutind:]\n",
        "                ys+=yi[cutind:]\n",
        "        else:\n",
        "            X+=Xi\n",
        "            y+=yi\n",
        "\n",
        "    X = np.array(X)\n",
        "    y = np.array(y).T\n",
        "    if setaside: #setaside needs separate shuffling for each\n",
        "        Xs = np.array(Xs)\n",
        "        ys = np.array(ys).T\n",
        "        Xy= zip(X,y)\n",
        "        Xys= zip(Xs,ys)#np.array(map(lambda i: [Xs[i],ys[i]],range(len(ys))))\n",
        "        np.random.shuffle(Xy)\n",
        "        np.random.shuffle(Xys)\n",
        "        X_train= np.array(map(lambda x: x[0],Xy))\n",
        "        y_train= np.array(map(lambda x: x[1],Xy))\n",
        "        X_test= np.array(map(lambda x: x[0],Xys))\n",
        "        y_test= np.array(map(lambda x: x[1],Xys))\n",
        "    else:\n",
        "        X = np.array(X)\n",
        "        y = np.array(y).T\n",
        "        X_train, X_test, y_train, y_test = train_test_split(X, y, test_size=testsplit)\n",
        "\n",
        "    X_train, y_train = shaping(X_train,y_train)\n",
        "    X_test, y_test = shaping(X_test,y_test)\n",
        "    return X_train, X_test, y_train, y_test"
      ],
      "execution_count": 0,
      "outputs": []
    },
    {
      "metadata": {
        "id": "iOJ31bno8mX7",
        "colab_type": "code",
        "colab": {
          "autoexec": {
            "startup": false,
            "wait_interval": 0
          }
        }
      },
      "cell_type": "code",
      "source": [
        "def load_data(testsplit=0.2, balance=True, size=1000):\n",
        "    animal = {\"cat\":1,\"dog\":0, 'bird':2}\n",
        "    X=[]\n",
        "    y=[]\n",
        "    for fn in [\"dsadjbajksd_0.npy\",\"dsadjbajksd_1.npy\",\"dsadjbajksd.npy\"]:\n",
        "#         directory = DATADIR+FOLDER[key]\n",
        "#         files = os.listdir(directory)\n",
        "        Xi=[]\n",
        "\n",
        "#         if balance:\n",
        "#             files = choice(files, size)\n",
        "\n",
        "#         for fn in files:\n",
        "        x = np.load(\"audio/\"+fn)\n",
        "        # wanted to reshape into a square\n",
        "        # first trying to put importance in the center data\n",
        "        # calculate the number of data to be deleted at the left right\n",
        "        # so for (3,41,50) its impossible because the data is rectangle and longer at its verticle side to make square and not losing verticle data we will need to do padding which is quite meaning less, \n",
        "        # the resulting ndarray should be (150,41)\n",
        "        # what we want is that \n",
        "        # the (3,41,13) so that it can become (3*13,41) then become (39,39) after removing the two \n",
        "        d = x.shape[2]-3*x.shape[1]\n",
        "        d1 = int(round(d/2))\n",
        "        d2 = d-d1\n",
        "        xs = x.reshape((3*x.shape[1],x.shape[2]))[:,d1:x.shape[2]-d2]\n",
        "        Xi.append(xs)\n",
        "        yi = list(np.ones(len(Xi))*animal[key])\n",
        "\n",
        "        X+=Xi # the difference between  += and .append() is that += is like extend() which add two array like [a] += [b] // [a,b] but [a].append([b,c]) will give you [a,[b,c]]\n",
        "        y+=yi\n",
        "\n",
        "    X = np.array(X)\n",
        "    y = np.array(y).T\n",
        "\n",
        "    X = np.array(X)\n",
        "    y = np.array(y).T\n",
        "    X_train, X_test, y_train, y_test = train_test_split(X, y, test_size=testsplit)\n",
        "\n",
        "    X_train, y_train = shaping(X_train,y_train)\n",
        "    X_test, y_test = shaping(X_test,y_test)\n",
        "    return X_train, X_test, y_train, y_test\n",
        "\n",
        "def shaping(X,y):\n",
        "    X_new = X.reshape((X.shape[0],1,X[0].shape[1],X.shape[2]))\n",
        "    y_new = np_utils.to_categorical(y,3)\n",
        "    return X_new, y_new\n",
        "\n",
        "load_data()\n"
      ],
      "execution_count": 0,
      "outputs": []
    },
    {
      "metadata": {
        "id": "fB8EK1_jqXLL",
        "colab_type": "text"
      },
      "cell_type": "markdown",
      "source": [
        "## Reference\n",
        "1. [Noise Reduction And Audio Trimming](https://github.com/dodiku/noise_reduction)\n",
        "2. [Converting PCM to WAV](https://stackoverflow.com/questions/16111038/how-to-convert-pcm-files-to-wav-files-scripting)"
      ]
    }
  ]
}